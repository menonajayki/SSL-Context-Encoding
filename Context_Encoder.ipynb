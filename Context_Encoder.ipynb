{
  "nbformat": 4,
  "nbformat_minor": 0,
  "metadata": {
    "colab": {
      "provenance": [],
      "gpuType": "V28",
      "authorship_tag": "ABX9TyOkpHdViH5Z/zBagNMHvb6J",
      "include_colab_link": true
    },
    "kernelspec": {
      "name": "python3",
      "display_name": "Python 3"
    },
    "language_info": {
      "name": "python"
    },
    "accelerator": "TPU"
  },
  "cells": [
    {
      "cell_type": "markdown",
      "metadata": {
        "id": "view-in-github",
        "colab_type": "text"
      },
      "source": [
        "<a href=\"https://colab.research.google.com/github/menonajayki/SSL-Context-Encoding/blob/main/Context_Encoder.ipynb\" target=\"_parent\"><img src=\"https://colab.research.google.com/assets/colab-badge.svg\" alt=\"Open In Colab\"/></a>"
      ]
    },
    {
      "cell_type": "code",
      "execution_count": null,
      "metadata": {
        "id": "_k11rS1Ag1gd"
      },
      "outputs": [],
      "source": [
        "!git clone https://github.com/wilson1yan/cs294-158-ssl --quiet"
      ]
    },
    {
      "cell_type": "code",
      "source": [
        "!pip install torch>=1.8.0 torchvision>=0.9.0 opencv-python requests cuda-python"
      ],
      "metadata": {
        "id": "6OD-_rC4hYm7"
      },
      "execution_count": null,
      "outputs": []
    },
    {
      "cell_type": "code",
      "source": [
        "!pip install git+https://github.com/ildoonet/pytorch-gradual-warmup-lr.git --quiet"
      ],
      "metadata": {
        "colab": {
          "base_uri": "https://localhost:8080/"
        },
        "id": "-8kfjgL8in1q",
        "outputId": "ad37f005-b6d0-469d-8a49-b6b677093201"
      },
      "execution_count": null,
      "outputs": [
        {
          "output_type": "stream",
          "name": "stdout",
          "text": [
            "  Preparing metadata (setup.py) ... \u001b[?25l\u001b[?25hdone\n",
            "  Building wheel for warmup-scheduler (setup.py) ... \u001b[?25l\u001b[?25hdone\n"
          ]
        }
      ]
    },
    {
      "cell_type": "code",
      "source": [
        "import os\n",
        "os.chdir('cs294-158-ssl')"
      ],
      "metadata": {
        "id": "C1cs_9jqjXHT"
      },
      "execution_count": null,
      "outputs": []
    },
    {
      "cell_type": "code",
      "source": [
        "!ls"
      ],
      "metadata": {
        "colab": {
          "base_uri": "https://localhost:8080/"
        },
        "id": "bbU-NapYj-N5",
        "outputId": "c943b6e5-8838-423a-b677-84f7a7f30d59"
      },
      "execution_count": 30,
      "outputs": [
        {
          "output_type": "stream",
          "name": "stdout",
          "text": [
            "create_imagenet_subset.py  palette.pkl\trun\t       train_segmentation.py\n",
            "deepul_helper\t\t   README.md\tsample_images  train_self_supervised_task.py\n",
            "environment.yml\t\t   results\tsetup.py\n"
          ]
        }
      ]
    },
    {
      "cell_type": "code",
      "source": [
        "!python train_self_supervised_task.py -d cifar10 -t rotation"
      ],
      "metadata": {
        "id": "A2-DsHWMjhma"
      },
      "execution_count": 33,
      "outputs": []
    }
  ]
}