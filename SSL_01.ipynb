{
  "nbformat": 4,
  "nbformat_minor": 0,
  "metadata": {
    "colab": {
      "provenance": [],
      "gpuType": "T4",
      "authorship_tag": "ABX9TyMdmE++Xlrgkdg6zZ6OdglA",
      "include_colab_link": true
    },
    "kernelspec": {
      "name": "python3",
      "display_name": "Python 3"
    },
    "language_info": {
      "name": "python"
    },
    "accelerator": "GPU"
  },
  "cells": [
    {
      "cell_type": "markdown",
      "metadata": {
        "id": "view-in-github",
        "colab_type": "text"
      },
      "source": [
        "<a href=\"https://colab.research.google.com/github/menonajayki/SSL-Context-Encoding/blob/main/SSL_01.ipynb\" target=\"_parent\"><img src=\"https://colab.research.google.com/assets/colab-badge.svg\" alt=\"Open In Colab\"/></a>"
      ]
    },
    {
      "cell_type": "markdown",
      "source": [
        "The command is to remove if the directory exist, this ensures clean and consistent starting point before cloning"
      ],
      "metadata": {
        "id": "XWvUFp9E1-A6"
      }
    },
    {
      "cell_type": "code",
      "execution_count": 4,
      "metadata": {
        "id": "fdStEpyt1CXh"
      },
      "outputs": [],
      "source": [
        "!if [ -d cs294-158-ssl ]; then rm -Rf cs294-158-ssl; fi"
      ]
    },
    {
      "cell_type": "markdown",
      "source": [
        "Clone and pip the directory"
      ],
      "metadata": {
        "id": "QnR6KQPs2-3h"
      }
    },
    {
      "cell_type": "code",
      "source": [
        "!git clone https://github.com/wilson1yan/cs294-158-ssl\n",
        "!pip install cs294-158-ssl/"
      ],
      "metadata": {
        "colab": {
          "base_uri": "https://localhost:8080/"
        },
        "collapsed": true,
        "id": "PIeHRbcy2MqZ",
        "outputId": "e895d5e0-1f45-4e00-f94a-85c80260dd7d"
      },
      "execution_count": 5,
      "outputs": [
        {
          "output_type": "stream",
          "name": "stdout",
          "text": [
            "Cloning into 'cs294-158-ssl'...\n",
            "remote: Enumerating objects: 611, done.\u001b[K\n",
            "remote: Counting objects: 100% (189/189), done.\u001b[K\n",
            "remote: Compressing objects: 100% (136/136), done.\u001b[K\n",
            "remote: Total 611 (delta 115), reused 119 (delta 53), pack-reused 422\u001b[K\n",
            "Receiving objects: 100% (611/611), 3.11 MiB | 16.79 MiB/s, done.\n",
            "Resolving deltas: 100% (424/424), done.\n",
            "Processing ./cs294-158-ssl\n",
            "  Preparing metadata (setup.py) ... \u001b[?25l\u001b[?25hdone\n",
            "Building wheels for collected packages: deepul-helper\n",
            "  Building wheel for deepul-helper (setup.py) ... \u001b[?25l\u001b[?25hdone\n",
            "  Created wheel for deepul-helper: filename=deepul_helper-0.1.0-py3-none-any.whl size=25298 sha256=aa0870077d185c1a5cdb3a9f5d499088381ca58b155d63a04b1d24a95dc16b7e\n",
            "  Stored in directory: /root/.cache/pip/wheels/e3/df/97/281e32d717214451862e0e558746de423b9ef530b7376421e2\n",
            "Successfully built deepul-helper\n",
            "Installing collected packages: deepul-helper\n",
            "Successfully installed deepul-helper-0.1.0\n"
          ]
        }
      ]
    },
    {
      "cell_type": "markdown",
      "source": [
        "Change working directory"
      ],
      "metadata": {
        "id": "W6DBkgDf3LEJ"
      }
    },
    {
      "cell_type": "code",
      "source": [
        "import os\n",
        "os.chdir('cs294-158-ssl') # use .. to go  back in wd"
      ],
      "metadata": {
        "id": "xOC8oibX2-g6"
      },
      "execution_count": 12,
      "outputs": []
    },
    {
      "cell_type": "code",
      "source": [
        "current_directory = os.getcwd()\n",
        "print(\"Current working directory:\", current_directory)"
      ],
      "metadata": {
        "colab": {
          "base_uri": "https://localhost:8080/"
        },
        "id": "2vohAjPw3dDC",
        "outputId": "4029fa17-221b-4b37-ea48-279f7311d74a"
      },
      "execution_count": 20,
      "outputs": [
        {
          "output_type": "stream",
          "name": "stdout",
          "text": [
            "Current working directory: /content/cs294-158-ssl\n"
          ]
        }
      ]
    },
    {
      "cell_type": "markdown",
      "source": [
        "Use gdown to take the data set from google drive"
      ],
      "metadata": {
        "id": "eXlGqqfw7BMv"
      }
    },
    {
      "cell_type": "code",
      "source": [
        "!pip install gdown\n",
        "import gdown\n",
        "gdown.download('https://drive.google.com/uc?id=1_3pQdiYZCI-Jybdjj_54OQZmclbddNBk', 'data.zip', quiet=False)"
      ],
      "metadata": {
        "colab": {
          "base_uri": "https://localhost:8080/",
          "height": 313
        },
        "id": "_sMIYtxC4YtX",
        "outputId": "69063e04-4f4a-45c7-a9ad-0fd29f53c4aa"
      },
      "execution_count": 21,
      "outputs": [
        {
          "output_type": "stream",
          "name": "stdout",
          "text": [
            "Requirement already satisfied: gdown in /usr/local/lib/python3.10/dist-packages (5.1.0)\n",
            "Requirement already satisfied: beautifulsoup4 in /usr/local/lib/python3.10/dist-packages (from gdown) (4.12.3)\n",
            "Requirement already satisfied: filelock in /usr/local/lib/python3.10/dist-packages (from gdown) (3.14.0)\n",
            "Requirement already satisfied: requests[socks] in /usr/local/lib/python3.10/dist-packages (from gdown) (2.31.0)\n",
            "Requirement already satisfied: tqdm in /usr/local/lib/python3.10/dist-packages (from gdown) (4.66.4)\n",
            "Requirement already satisfied: soupsieve>1.2 in /usr/local/lib/python3.10/dist-packages (from beautifulsoup4->gdown) (2.5)\n",
            "Requirement already satisfied: charset-normalizer<4,>=2 in /usr/local/lib/python3.10/dist-packages (from requests[socks]->gdown) (3.3.2)\n",
            "Requirement already satisfied: idna<4,>=2.5 in /usr/local/lib/python3.10/dist-packages (from requests[socks]->gdown) (3.7)\n",
            "Requirement already satisfied: urllib3<3,>=1.21.1 in /usr/local/lib/python3.10/dist-packages (from requests[socks]->gdown) (2.0.7)\n",
            "Requirement already satisfied: certifi>=2017.4.17 in /usr/local/lib/python3.10/dist-packages (from requests[socks]->gdown) (2024.2.2)\n",
            "Requirement already satisfied: PySocks!=1.5.7,>=1.5.6 in /usr/local/lib/python3.10/dist-packages (from requests[socks]->gdown) (1.7.1)\n"
          ]
        },
        {
          "output_type": "stream",
          "name": "stderr",
          "text": [
            "Downloading...\n",
            "From (original): https://drive.google.com/uc?id=1_3pQdiYZCI-Jybdjj_54OQZmclbddNBk\n",
            "From (redirected): https://drive.google.com/uc?id=1_3pQdiYZCI-Jybdjj_54OQZmclbddNBk&confirm=t&uuid=64d69134-fe55-4c53-899a-248ba9890264\n",
            "To: /content/cs294-158-ssl/data.zip\n",
            "100%|██████████| 4.23G/4.23G [00:41<00:00, 102MB/s]\n"
          ]
        },
        {
          "output_type": "execute_result",
          "data": {
            "text/plain": [
              "'data.zip'"
            ],
            "application/vnd.google.colaboratory.intrinsic+json": {
              "type": "string"
            }
          },
          "metadata": {},
          "execution_count": 21
        }
      ]
    },
    {
      "cell_type": "code",
      "source": [
        "!unzip -qq data.zip"
      ],
      "metadata": {
        "id": "dPDSuqTy6Og5"
      },
      "execution_count": 22,
      "outputs": []
    },
    {
      "cell_type": "code",
      "source": [
        "!rm data.zip"
      ],
      "metadata": {
        "id": "SjAQmgxF7Yz_"
      },
      "execution_count": 24,
      "outputs": []
    },
    {
      "cell_type": "code",
      "source": [
        "!ls"
      ],
      "metadata": {
        "colab": {
          "base_uri": "https://localhost:8080/"
        },
        "id": "OMVLIFW86vSn",
        "outputId": "466e39f3-537d-4de5-da62-6c04fba3f2de"
      },
      "execution_count": 25,
      "outputs": [
        {
          "output_type": "stream",
          "name": "stdout",
          "text": [
            "build\t\t\t   environment.yml  setup.py\n",
            "create_imagenet_subset.py  palette.pkl\t    train_segmentation.py\n",
            "data\t\t\t   README.md\t    train_self_supervised_task.py\n",
            "deepul_helper\t\t   run\n",
            "deepul_helper.egg-info\t   sample_images\n"
          ]
        }
      ]
    },
    {
      "cell_type": "code",
      "source": [
        "gdown.download(\"https://drive.google.com/uc?id=1GPQoG4r_zLyOzYrY-YUTl-6EUkCsb99J\", \"results.zip\", quiet=False)"
      ],
      "metadata": {
        "colab": {
          "base_uri": "https://localhost:8080/",
          "height": 122
        },
        "id": "6rrXOrxS7Mc-",
        "outputId": "4236d696-55a4-4ec0-e4fe-b662ad7de690"
      },
      "execution_count": 26,
      "outputs": [
        {
          "output_type": "stream",
          "name": "stderr",
          "text": [
            "Downloading...\n",
            "From (original): https://drive.google.com/uc?id=1GPQoG4r_zLyOzYrY-YUTl-6EUkCsb99J\n",
            "From (redirected): https://drive.google.com/uc?id=1GPQoG4r_zLyOzYrY-YUTl-6EUkCsb99J&confirm=t&uuid=2c0af101-3a12-45a5-823b-0635eb313b3a\n",
            "To: /content/cs294-158-ssl/results.zip\n",
            "100%|██████████| 2.64G/2.64G [00:35<00:00, 73.6MB/s]\n"
          ]
        },
        {
          "output_type": "execute_result",
          "data": {
            "text/plain": [
              "'results.zip'"
            ],
            "application/vnd.google.colaboratory.intrinsic+json": {
              "type": "string"
            }
          },
          "metadata": {},
          "execution_count": 26
        }
      ]
    },
    {
      "cell_type": "code",
      "source": [
        "!unzip results.zip"
      ],
      "metadata": {
        "colab": {
          "base_uri": "https://localhost:8080/"
        },
        "collapsed": true,
        "id": "6FZJuTOO7xI3",
        "outputId": "7c25afa7-9329-47af-c576-9ba075f08b32"
      },
      "execution_count": 27,
      "outputs": [
        {
          "output_type": "stream",
          "name": "stdout",
          "text": [
            "Archive:  results.zip\n",
            "   creating: results/\n",
            "   creating: results/cifar10_context_encoder/\n",
            "  inflating: results/cifar10_context_encoder/checkpoint.pth.tar  \n",
            "  inflating: results/cifar10_context_encoder/model_best.pth.tar  \n",
            "   creating: results/cifar10_rotation/\n",
            "  inflating: results/cifar10_rotation/checkpoint.pth.tar  \n",
            "  inflating: results/cifar10_rotation/model_best.pth.tar  \n",
            "   creating: results/cifar10_simclr/\n",
            "  inflating: results/cifar10_simclr/checkpoint.pth.tar  \n",
            "  inflating: results/cifar10_simclr/model_best.pth.tar  \n",
            "   creating: results/imagenet100_simclr/\n",
            "  inflating: results/imagenet100_simclr/checkpoint.pth.tar  \n",
            "  inflating: results/imagenet100_simclr/model_best.pth.tar  \n",
            "   creating: results/imagenet100_simclr/segmentation/\n",
            "  inflating: results/imagenet100_simclr/segmentation/epoch0.png  \n",
            "  inflating: results/imagenet100_simclr/segmentation/epoch10.png  \n",
            "  inflating: results/imagenet100_simclr/segmentation/epoch100.png  \n",
            "  inflating: results/imagenet100_simclr/segmentation/epoch110.png  \n",
            "  inflating: results/imagenet100_simclr/segmentation/epoch120.png  \n",
            "  inflating: results/imagenet100_simclr/segmentation/epoch130.png  \n",
            "  inflating: results/imagenet100_simclr/segmentation/epoch140.png  \n",
            "  inflating: results/imagenet100_simclr/segmentation/epoch150.png  \n",
            "  inflating: results/imagenet100_simclr/segmentation/epoch160.png  \n",
            "  inflating: results/imagenet100_simclr/segmentation/epoch170.png  \n",
            "  inflating: results/imagenet100_simclr/segmentation/epoch180.png  \n",
            "  inflating: results/imagenet100_simclr/segmentation/epoch190.png  \n",
            "  inflating: results/imagenet100_simclr/segmentation/epoch20.png  \n",
            "  inflating: results/imagenet100_simclr/segmentation/epoch200.png  \n",
            "  inflating: results/imagenet100_simclr/segmentation/epoch210.png  \n",
            "  inflating: results/imagenet100_simclr/segmentation/epoch220.png  \n",
            "  inflating: results/imagenet100_simclr/segmentation/epoch230.png  \n",
            "  inflating: results/imagenet100_simclr/segmentation/epoch240.png  \n",
            "  inflating: results/imagenet100_simclr/segmentation/epoch250.png  \n",
            "  inflating: results/imagenet100_simclr/segmentation/epoch260.png  \n",
            "  inflating: results/imagenet100_simclr/segmentation/epoch270.png  \n",
            "  inflating: results/imagenet100_simclr/segmentation/epoch280.png  \n",
            "  inflating: results/imagenet100_simclr/segmentation/epoch290.png  \n",
            "  inflating: results/imagenet100_simclr/segmentation/epoch30.png  \n",
            "  inflating: results/imagenet100_simclr/segmentation/epoch300.png  \n",
            "  inflating: results/imagenet100_simclr/segmentation/epoch310.png  \n",
            "  inflating: results/imagenet100_simclr/segmentation/epoch320.png  \n",
            "  inflating: results/imagenet100_simclr/segmentation/epoch330.png  \n",
            "  inflating: results/imagenet100_simclr/segmentation/epoch340.png  \n",
            "  inflating: results/imagenet100_simclr/segmentation/epoch350.png  \n",
            "  inflating: results/imagenet100_simclr/segmentation/epoch360.png  \n",
            "  inflating: results/imagenet100_simclr/segmentation/epoch370.png  \n",
            "  inflating: results/imagenet100_simclr/segmentation/epoch380.png  \n",
            "  inflating: results/imagenet100_simclr/segmentation/epoch390.png  \n",
            "  inflating: results/imagenet100_simclr/segmentation/epoch40.png  \n",
            "  inflating: results/imagenet100_simclr/segmentation/epoch400.png  \n",
            "  inflating: results/imagenet100_simclr/segmentation/epoch410.png  \n",
            "  inflating: results/imagenet100_simclr/segmentation/epoch420.png  \n",
            "  inflating: results/imagenet100_simclr/segmentation/epoch430.png  \n",
            "  inflating: results/imagenet100_simclr/segmentation/epoch440.png  \n",
            "  inflating: results/imagenet100_simclr/segmentation/epoch450.png  \n",
            "  inflating: results/imagenet100_simclr/segmentation/epoch460.png  \n",
            "  inflating: results/imagenet100_simclr/segmentation/epoch470.png  \n",
            "  inflating: results/imagenet100_simclr/segmentation/epoch480.png  \n",
            "  inflating: results/imagenet100_simclr/segmentation/epoch490.png  \n",
            "  inflating: results/imagenet100_simclr/segmentation/epoch50.png  \n",
            "  inflating: results/imagenet100_simclr/segmentation/epoch500.png  \n",
            "  inflating: results/imagenet100_simclr/segmentation/epoch510.png  \n",
            "  inflating: results/imagenet100_simclr/segmentation/epoch520.png  \n",
            "  inflating: results/imagenet100_simclr/segmentation/epoch530.png  \n",
            "  inflating: results/imagenet100_simclr/segmentation/epoch540.png  \n",
            "  inflating: results/imagenet100_simclr/segmentation/epoch550.png  \n",
            "  inflating: results/imagenet100_simclr/segmentation/epoch560.png  \n",
            "  inflating: results/imagenet100_simclr/segmentation/epoch570.png  \n",
            "  inflating: results/imagenet100_simclr/segmentation/epoch580.png  \n",
            "  inflating: results/imagenet100_simclr/segmentation/epoch590.png  \n",
            "  inflating: results/imagenet100_simclr/segmentation/epoch60.png  \n",
            "  inflating: results/imagenet100_simclr/segmentation/epoch600.png  \n",
            "  inflating: results/imagenet100_simclr/segmentation/epoch610.png  \n",
            "  inflating: results/imagenet100_simclr/segmentation/epoch620.png  \n",
            "  inflating: results/imagenet100_simclr/segmentation/epoch630.png  \n",
            "  inflating: results/imagenet100_simclr/segmentation/epoch640.png  \n",
            "  inflating: results/imagenet100_simclr/segmentation/epoch650.png  \n",
            "  inflating: results/imagenet100_simclr/segmentation/epoch660.png  \n",
            "  inflating: results/imagenet100_simclr/segmentation/epoch670.png  \n",
            "  inflating: results/imagenet100_simclr/segmentation/epoch680.png  \n",
            "  inflating: results/imagenet100_simclr/segmentation/epoch690.png  \n",
            "  inflating: results/imagenet100_simclr/segmentation/epoch70.png  \n",
            "  inflating: results/imagenet100_simclr/segmentation/epoch700.png  \n",
            "  inflating: results/imagenet100_simclr/segmentation/epoch710.png  \n",
            "  inflating: results/imagenet100_simclr/segmentation/epoch720.png  \n",
            "  inflating: results/imagenet100_simclr/segmentation/epoch730.png  \n",
            "  inflating: results/imagenet100_simclr/segmentation/epoch740.png  \n",
            "  inflating: results/imagenet100_simclr/segmentation/epoch750.png  \n",
            "  inflating: results/imagenet100_simclr/segmentation/epoch760.png  \n",
            "  inflating: results/imagenet100_simclr/segmentation/epoch770.png  \n",
            "  inflating: results/imagenet100_simclr/segmentation/epoch780.png  \n",
            "  inflating: results/imagenet100_simclr/segmentation/epoch790.png  \n",
            "  inflating: results/imagenet100_simclr/segmentation/epoch80.png  \n",
            "  inflating: results/imagenet100_simclr/segmentation/epoch800.png  \n",
            "  inflating: results/imagenet100_simclr/segmentation/epoch810.png  \n",
            "  inflating: results/imagenet100_simclr/segmentation/epoch820.png  \n",
            "  inflating: results/imagenet100_simclr/segmentation/epoch830.png  \n",
            "  inflating: results/imagenet100_simclr/segmentation/epoch840.png  \n",
            "  inflating: results/imagenet100_simclr/segmentation/epoch850.png  \n",
            "  inflating: results/imagenet100_simclr/segmentation/epoch860.png  \n",
            "  inflating: results/imagenet100_simclr/segmentation/epoch870.png  \n",
            "  inflating: results/imagenet100_simclr/segmentation/epoch880.png  \n",
            "  inflating: results/imagenet100_simclr/segmentation/epoch890.png  \n",
            "  inflating: results/imagenet100_simclr/segmentation/epoch90.png  \n",
            "  inflating: results/imagenet100_simclr/segmentation/epoch900.png  \n",
            "  inflating: results/imagenet100_simclr/segmentation/epoch910.png  \n",
            "  inflating: results/imagenet100_simclr/segmentation/epoch920.png  \n",
            "  inflating: results/imagenet100_simclr/segmentation/epoch930.png  \n",
            "  inflating: results/imagenet100_simclr/segmentation/epoch940.png  \n",
            "  inflating: results/imagenet100_simclr/segmentation/epoch950.png  \n",
            "  inflating: results/imagenet100_simclr/segmentation/epoch960.png  \n",
            "  inflating: results/imagenet100_simclr/segmentation/epoch970.png  \n",
            "  inflating: results/imagenet100_simclr/segmentation/epoch980.png  \n",
            "  inflating: results/imagenet100_simclr/segmentation/epoch990.png  \n",
            "  inflating: results/imagenet100_simclr/seg_checkpoint.pth.tar  \n",
            "  inflating: results/imagenet100_simclr/seg_model_best.pth.tar  \n"
          ]
        }
      ]
    },
    {
      "cell_type": "code",
      "source": [
        "!rm results.zip"
      ],
      "metadata": {
        "id": "IIyvI_yT8D34"
      },
      "execution_count": 28,
      "outputs": []
    },
    {
      "cell_type": "markdown",
      "source": [
        "Comes from the cs294-158-ssl"
      ],
      "metadata": {
        "id": "pCcy4xjp88Vn"
      }
    },
    {
      "cell_type": "code",
      "source": [
        "from deepul_helper.demos import load_model_and_data, evaluate_accuracy, display_nearest_neighbors, show_context_encoder_inpainting"
      ],
      "metadata": {
        "id": "T0mvYuvP8yzu"
      },
      "execution_count": 36,
      "outputs": []
    },
    {
      "cell_type": "markdown",
      "source": [
        "Line magic function issue"
      ],
      "metadata": {
        "id": "F7WoJGok-hN2"
      }
    },
    {
      "cell_type": "code",
      "source": [
        "% matplotlib inline"
      ],
      "metadata": {
        "colab": {
          "base_uri": "https://localhost:8080/"
        },
        "id": "bJi7u3iZ9lS-",
        "outputId": "c32dcd88-7c10-495e-9f54-c49176f85b8a"
      },
      "execution_count": 37,
      "outputs": [
        {
          "output_type": "stream",
          "name": "stderr",
          "text": [
            "UsageError: Line magic function `%` not found.\n"
          ]
        }
      ]
    }
  ]
}